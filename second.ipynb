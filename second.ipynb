{
  "nbformat": 4,
  "nbformat_minor": 0,
  "metadata": {
    "colab": {
      "provenance": []
    },
    "kernelspec": {
      "name": "python3",
      "display_name": "Python 3"
    },
    "language_info": {
      "name": "python"
    }
  },
  "cells": [
    {
      "cell_type": "code",
      "execution_count": 1,
      "metadata": {
        "colab": {
          "base_uri": "https://localhost:8080/"
        },
        "id": "kTExP7C07fY-",
        "outputId": "ba0cf6c2-0cf9-49fc-ace0-50d468a7652a"
      },
      "outputs": [
        {
          "output_type": "stream",
          "name": "stdout",
          "text": [
            "Sum: 15\n",
            "Difference: 5\n",
            "Product: 50\n",
            "Quotient: 2.0\n"
          ]
        }
      ],
      "source": [
        "num1 = 10\n",
        "num2 = 5\n",
        "\n",
        "summation = num1 + num2\n",
        "difference = num1 - num2\n",
        "product = num1 * num2\n",
        "quotient = num1 / num2\n",
        "\n",
        "print(\"Sum:\", summation)\n",
        "print(\"Difference:\", difference)\n",
        "print(\"Product:\", product)\n",
        "print(\"Quotient:\", quotient)\n"
      ]
    },
    {
      "cell_type": "code",
      "source": [
        "x = 5\n",
        "\n",
        "x += 2\n",
        "x -= 3\n",
        "x *= 4\n",
        "x /= 2\n",
        "\n",
        "print(\"Result after assignment operations:\", x)\n"
      ],
      "metadata": {
        "colab": {
          "base_uri": "https://localhost:8080/"
        },
        "id": "xZocgEd07raO",
        "outputId": "a56065ba-5eed-45a9-8608-acd275bf55ff"
      },
      "execution_count": 2,
      "outputs": [
        {
          "output_type": "stream",
          "name": "stdout",
          "text": [
            "Result after assignment operations: 8.0\n"
          ]
        }
      ]
    },
    {
      "cell_type": "code",
      "source": [
        "num1 = 10\n",
        "num2 = 5\n",
        "\n",
        "if num1 > num2:\n",
        "    print(f\"{num1} is greater than {num2}\")\n",
        "elif num1 < num2:\n",
        "    print(f\"{num1} is less than {num2}\")\n",
        "else:\n",
        "    print(f\"{num1} is equal to {num2}\")\n"
      ],
      "metadata": {
        "colab": {
          "base_uri": "https://localhost:8080/"
        },
        "id": "l53d3YTB7xDo",
        "outputId": "01e03a6a-d9a5-432b-d2f7-6ce621be3037"
      },
      "execution_count": 3,
      "outputs": [
        {
          "output_type": "stream",
          "name": "stdout",
          "text": [
            "10 is greater than 5\n"
          ]
        }
      ]
    },
    {
      "cell_type": "code",
      "source": [
        "x = 5\n",
        "y = 10\n",
        "\n",
        "if x > 0 and y < 15:\n",
        "    print(\"Both conditions are true\")\n",
        "else:\n",
        "    print(\"At least one condition is false\")\n"
      ],
      "metadata": {
        "colab": {
          "base_uri": "https://localhost:8080/"
        },
        "id": "ow1Kp3M770EO",
        "outputId": "cd1c3a37-fed7-4a11-ba76-b6b458bde527"
      },
      "execution_count": 4,
      "outputs": [
        {
          "output_type": "stream",
          "name": "stdout",
          "text": [
            "Both conditions are true\n"
          ]
        }
      ]
    },
    {
      "cell_type": "code",
      "source": [
        "a = [1, 2, 3]\n",
        "b = a\n",
        "\n",
        "if a is b:\n",
        "    print(\"a and b refer to the same object\")\n",
        "else:\n",
        "    print(\"a and b refer to different objects\")\n"
      ],
      "metadata": {
        "colab": {
          "base_uri": "https://localhost:8080/"
        },
        "id": "0x9gejAa71ag",
        "outputId": "4c5a572e-f596-4529-f688-c434f3161a93"
      },
      "execution_count": 5,
      "outputs": [
        {
          "output_type": "stream",
          "name": "stdout",
          "text": [
            "a and b refer to the same object\n"
          ]
        }
      ]
    },
    {
      "cell_type": "code",
      "source": [
        "number = 7\n",
        "\n",
        "changed_sign = -number\n",
        "\n",
        "print(\"Number with changed sign:\", changed_sign)\n"
      ],
      "metadata": {
        "colab": {
          "base_uri": "https://localhost:8080/"
        },
        "id": "93B1-jCu795P",
        "outputId": "a0b540d8-f717-4fb9-d001-7a00e6ce0807"
      },
      "execution_count": 6,
      "outputs": [
        {
          "output_type": "stream",
          "name": "stdout",
          "text": [
            "Number with changed sign: -7\n"
          ]
        }
      ]
    },
    {
      "cell_type": "code",
      "source": [
        "num1 = 5\n",
        "num2 = 3\n",
        "\n",
        "bitwise_and = num1 & num2\n",
        "bitwise_or = num1 | num2\n",
        "bitwise_xor = num1 ^ num2\n",
        "\n",
        "print(\"Bitwise AND:\", bitwise_and)\n",
        "print(\"Bitwise OR:\", bitwise_or)\n",
        "print(\"Bitwise XOR:\", bitwise_xor)\n"
      ],
      "metadata": {
        "colab": {
          "base_uri": "https://localhost:8080/"
        },
        "id": "WFZOvf-l8PtR",
        "outputId": "fda9c8d5-4594-417a-e124-4fc6bd4e09bd"
      },
      "execution_count": 7,
      "outputs": [
        {
          "output_type": "stream",
          "name": "stdout",
          "text": [
            "Bitwise AND: 1\n",
            "Bitwise OR: 7\n",
            "Bitwise XOR: 6\n"
          ]
        }
      ]
    },
    {
      "cell_type": "code",
      "source": [
        "x = 10\n",
        "y = 5\n",
        "\n",
        "result = \"x is greater than y\" if x > y else \"x is less than or equal to y\"\n",
        "\n",
        "print(result)\n"
      ],
      "metadata": {
        "colab": {
          "base_uri": "https://localhost:8080/"
        },
        "id": "AfD94oiZ8R9P",
        "outputId": "8468f1a8-63f4-44aa-92dd-18ca04540395"
      },
      "execution_count": 8,
      "outputs": [
        {
          "output_type": "stream",
          "name": "stdout",
          "text": [
            "x is greater than y\n"
          ]
        }
      ]
    }
  ]
}