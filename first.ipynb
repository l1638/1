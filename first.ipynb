{
  "nbformat": 4,
  "nbformat_minor": 0,
  "metadata": {
    "colab": {
      "provenance": []
    },
    "kernelspec": {
      "name": "python3",
      "display_name": "Python 3"
    },
    "language_info": {
      "name": "python"
    }
  },
  "cells": [
    {
      "cell_type": "code",
      "execution_count": 1,
      "metadata": {
        "colab": {
          "base_uri": "https://localhost:8080/"
        },
        "id": "REzkVWzgIAgw",
        "outputId": "20bec8a8-2a56-4759-938e-8b8bde6d67f5"
      },
      "outputs": [
        {
          "output_type": "stream",
          "name": "stdout",
          "text": [
            "6\n"
          ]
        }
      ],
      "source": [
        "a=6\n",
        "print(a)"
      ]
    },
    {
      "cell_type": "code",
      "source": [
        "\n",
        "integer_number = 10\n",
        "\n",
        "\n",
        "float_number = int(10.0)\n",
        "\n",
        "\n",
        "print(f\"The integer {integer_number} converted to a floating point number is {float_number}\")"
      ],
      "metadata": {
        "colab": {
          "base_uri": "https://localhost:8080/"
        },
        "id": "t82eOdUzJGVd",
        "outputId": "c5473539-491b-4d34-be31-a2337bc7bde3"
      },
      "execution_count": 2,
      "outputs": [
        {
          "output_type": "stream",
          "name": "stdout",
          "text": [
            "The integer 10 converted to a floating point number is 10\n"
          ]
        }
      ]
    },
    {
      "cell_type": "code",
      "source": [
        "\n",
        "float_number = 10.5\n",
        "\n",
        "\n",
        "integer_number = int(float_number)\n",
        "\n",
        "\n",
        "print(f\"The floating point number {float_number} converted to an integer is {integer_number}\")"
      ],
      "metadata": {
        "colab": {
          "base_uri": "https://localhost:8080/"
        },
        "id": "dGdKHjE1Js_5",
        "outputId": "69d6daf6-4c32-4e25-aa40-e69076240a5a"
      },
      "execution_count": 3,
      "outputs": [
        {
          "output_type": "stream",
          "name": "stdout",
          "text": [
            "The floating point number 10.5 converted to an integer is 10\n"
          ]
        }
      ]
    },
    {
      "cell_type": "code",
      "source": [
        "\n",
        "integer_number = 10\n",
        "\n",
        "\n",
        "string_number = str(integer_number)\n",
        "\n",
        "\n",
        "print(f\"The integer {integer_number} converted to a string is {string_number}\")"
      ],
      "metadata": {
        "colab": {
          "base_uri": "https://localhost:8080/"
        },
        "id": "z9lUwjjsKBqh",
        "outputId": "c7b7a1aa-b15b-4d4e-bace-dfea9dd88560"
      },
      "execution_count": 4,
      "outputs": [
        {
          "output_type": "stream",
          "name": "stdout",
          "text": [
            "The integer 10 converted to a string is 10\n"
          ]
        }
      ]
    },
    {
      "cell_type": "code",
      "source": [
        "\n",
        "my_list = [1, 2, 3, 4, 5]\n",
        "\n",
        "my_tuple = tuple(my_list)\n",
        "\n",
        "\n",
        "print(f\"The list {my_list} converted to a tuple is {my_tuple}\")"
      ],
      "metadata": {
        "colab": {
          "base_uri": "https://localhost:8080/"
        },
        "id": "1hSQ3uX_KxFf",
        "outputId": "d1f77766-29d8-41f6-eae3-5a5317287707"
      },
      "execution_count": 5,
      "outputs": [
        {
          "output_type": "stream",
          "name": "stdout",
          "text": [
            "The list [1, 2, 3, 4, 5] converted to a tuple is (1, 2, 3, 4, 5)\n"
          ]
        }
      ]
    },
    {
      "cell_type": "code",
      "source": [
        "\n",
        "my_tuple = (1, 2, 3)\n",
        "\n",
        "\n",
        "my_list = []\n",
        "for i in my_tuple:\n",
        "    my_list.append(i)\n",
        "\n",
        "# print list\n",
        "print(my_list)"
      ],
      "metadata": {
        "colab": {
          "base_uri": "https://localhost:8080/"
        },
        "id": "3i48LrewL2cw",
        "outputId": "ea21d104-d212-42a5-c21a-f251d693222e"
      },
      "execution_count": 7,
      "outputs": [
        {
          "output_type": "stream",
          "name": "stdout",
          "text": [
            "[1, 2, 3]\n"
          ]
        }
      ]
    },
    {
      "cell_type": "code",
      "source": [
        "def decimal_to_binary(decimal_number):\n",
        "    if decimal_number == 0:\n",
        "        return [0]\n",
        "    binary_number = []\n",
        "    while decimal_number > 0:\n",
        "        binary_number.append(decimal_number % 2)\n",
        "        decimal_number = decimal_number // 2\n",
        "    return binary_number[::-1]\n",
        "\n",
        "\n",
        "decimal_number = 10\n",
        "binary_number = decimal_to_binary(decimal_number)\n",
        "print(f\"The binary representation of {decimal_number} is {binary_number}\")"
      ],
      "metadata": {
        "colab": {
          "base_uri": "https://localhost:8080/"
        },
        "id": "rOjCG0FzMJTS",
        "outputId": "91df5c0b-d020-43e0-c0c9-1376ab577467"
      },
      "execution_count": 8,
      "outputs": [
        {
          "output_type": "stream",
          "name": "stdout",
          "text": [
            "The binary representation of 10 is [1, 0, 1, 0]\n"
          ]
        }
      ]
    },
    {
      "cell_type": "code",
      "source": [
        "def non_zero_to_boolean(number):\n",
        "    return bool(number)\n",
        "\n",
        "\n",
        "number = 10\n",
        "boolean = non_zero_to_boolean(number)\n",
        "print(f\"The boolean representation of {number} is {boolean}\")"
      ],
      "metadata": {
        "colab": {
          "base_uri": "https://localhost:8080/"
        },
        "id": "0nCoigIWMNph",
        "outputId": "a28909d5-3a16-42f9-db1e-d1c2adbbea03"
      },
      "execution_count": 9,
      "outputs": [
        {
          "output_type": "stream",
          "name": "stdout",
          "text": [
            "The boolean representation of 10 is True\n"
          ]
        }
      ]
    }
  ]
}