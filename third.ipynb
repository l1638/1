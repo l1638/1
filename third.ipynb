{
  "nbformat": 4,
  "nbformat_minor": 0,
  "metadata": {
    "colab": {
      "provenance": []
    },
    "kernelspec": {
      "name": "python3",
      "display_name": "Python 3"
    },
    "language_info": {
      "name": "python"
    }
  },
  "cells": [
    {
      "cell_type": "code",
      "execution_count": 1,
      "metadata": {
        "colab": {
          "base_uri": "https://localhost:8080/"
        },
        "id": "x09xNa2M82Fx",
        "outputId": "e8f968c3-af39-4d68-b6b1-e41a35a3e3f2"
      },
      "outputs": [
        {
          "output_type": "stream",
          "name": "stdout",
          "text": [
            "1\n",
            "2\n",
            "3\n",
            "4\n",
            "5\n"
          ]
        }
      ],
      "source": [
        "num = 1\n",
        "while num <= 5:\n",
        "    print(num)\n",
        "    num += 1\n"
      ]
    },
    {
      "cell_type": "code",
      "source": [
        "num = 1\n",
        "summation = 0\n",
        "while num <= 10:\n",
        "    summation += num\n",
        "    num += 1\n",
        "print(\"Sum of numbers from 1 to 10:\", summation)\n"
      ],
      "metadata": {
        "colab": {
          "base_uri": "https://localhost:8080/"
        },
        "id": "nb-OlKna880f",
        "outputId": "6ba13029-226a-474e-de31-7a91e1cbb12d"
      },
      "execution_count": 2,
      "outputs": [
        {
          "output_type": "stream",
          "name": "stdout",
          "text": [
            "Sum of numbers from 1 to 10: 55\n"
          ]
        }
      ]
    },
    {
      "cell_type": "code",
      "source": [
        "number = 5\n",
        "factorial = 1\n",
        "for i in range(1, number + 1):\n",
        "    factorial *= i\n",
        "print(f\"Factorial of {number}: {factorial}\")\n"
      ],
      "metadata": {
        "colab": {
          "base_uri": "https://localhost:8080/"
        },
        "id": "erpPF3pe9A3C",
        "outputId": "137d1f9f-a70d-40a6-a129-9a28b676b8b1"
      },
      "execution_count": 3,
      "outputs": [
        {
          "output_type": "stream",
          "name": "stdout",
          "text": [
            "Factorial of 5: 120\n"
          ]
        }
      ]
    },
    {
      "cell_type": "code",
      "source": [
        "string = \"Hello, World!\"\n",
        "vowel_count = 0\n",
        "for char in string:\n",
        "    if char.lower() in \"aeiou\":\n",
        "        vowel_count += 1\n",
        "print(\"Number of vowels in the string:\", vowel_count)\n"
      ],
      "metadata": {
        "colab": {
          "base_uri": "https://localhost:8080/"
        },
        "id": "4LqEoxVh9G0D",
        "outputId": "204aabb9-754a-43d1-9bac-8fe24bd2a835"
      },
      "execution_count": 4,
      "outputs": [
        {
          "output_type": "stream",
          "name": "stdout",
          "text": [
            "Number of vowels in the string: 3\n"
          ]
        }
      ]
    },
    {
      "cell_type": "code",
      "source": [
        "for i in range(1, 6):\n",
        "    for j in range(i):\n",
        "        print(\"*\", end=\" \")\n",
        "    print()\n"
      ],
      "metadata": {
        "colab": {
          "base_uri": "https://localhost:8080/"
        },
        "id": "hBsNk4ZE9IaZ",
        "outputId": "754123b0-2f27-4061-a31d-504502d8b7d9"
      },
      "execution_count": 5,
      "outputs": [
        {
          "output_type": "stream",
          "name": "stdout",
          "text": [
            "* \n",
            "* * \n",
            "* * * \n",
            "* * * * \n",
            "* * * * * \n"
          ]
        }
      ]
    },
    {
      "cell_type": "code",
      "source": [
        "for i in range(1, 11):\n",
        "    for j in range(1, 11):\n",
        "        print(i * j, end=\"\\t\")\n",
        "    print()\n"
      ],
      "metadata": {
        "colab": {
          "base_uri": "https://localhost:8080/"
        },
        "id": "jEBZ5Gai9Ra3",
        "outputId": "77125c4c-a51b-4a16-a9d4-439ae4863eb0"
      },
      "execution_count": 6,
      "outputs": [
        {
          "output_type": "stream",
          "name": "stdout",
          "text": [
            "1\t2\t3\t4\t5\t6\t7\t8\t9\t10\t\n",
            "2\t4\t6\t8\t10\t12\t14\t16\t18\t20\t\n",
            "3\t6\t9\t12\t15\t18\t21\t24\t27\t30\t\n",
            "4\t8\t12\t16\t20\t24\t28\t32\t36\t40\t\n",
            "5\t10\t15\t20\t25\t30\t35\t40\t45\t50\t\n",
            "6\t12\t18\t24\t30\t36\t42\t48\t54\t60\t\n",
            "7\t14\t21\t28\t35\t42\t49\t56\t63\t70\t\n",
            "8\t16\t24\t32\t40\t48\t56\t64\t72\t80\t\n",
            "9\t18\t27\t36\t45\t54\t63\t72\t81\t90\t\n",
            "10\t20\t30\t40\t50\t60\t70\t80\t90\t100\t\n"
          ]
        }
      ]
    }
  ]
}